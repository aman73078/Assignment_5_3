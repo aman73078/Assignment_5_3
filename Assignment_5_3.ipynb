{
 "cells": [
  {
   "cell_type": "code",
   "execution_count": 4,
   "id": "bc77cb98-2a3b-4868-a168-e180c32c7536",
   "metadata": {},
   "outputs": [],
   "source": [
    "# Q1. What is multithreading in python? Why it used? Named the module used to handle threads in python."
   ]
  },
  {
   "cell_type": "code",
   "execution_count": 5,
   "id": "3e1bafa4-9114-4608-af21-5d651de941e1",
   "metadata": {},
   "outputs": [],
   "source": [
    "# Ans- Multithreading is defined as the ability of a processor to execute multiple threads concurrently. In a \n",
    "#      simple, single-core CPU, it is achieved using frequent switching between threads. \n",
    "#      Python multithreading enables efficient utilization of the resources as the threads share the data space\n",
    "#      and memory. Multithreading in Python allows the concurrent and parallel occurrence of various tasks. It \n",
    "#      causes a reduction in time consumption or response time, thereby increasing the performance.\n",
    "#      The threading module is used to handle threads in python. Threading module is a high-level implementation\n",
    "#      of multithreading used to deploy an application in Python. To use multithreading, we need to import the \n",
    "#      threading module in Python Program. A start() method is used to initiate the activity of a thread."
   ]
  },
  {
   "cell_type": "code",
   "execution_count": 6,
   "id": "c63550f0-8c3c-4d11-a5e7-97d719cd9676",
   "metadata": {},
   "outputs": [],
   "source": [
    "# Q2. Why threading module is used? Write the use of the following functions.\n",
    "#     a. activeCount()\n",
    "#     b. currentThread()\n",
    "#     c. enumerate()"
   ]
  },
  {
   "cell_type": "code",
   "execution_count": 7,
   "id": "926c9fa6-7849-4516-bce4-8bf55d518bd4",
   "metadata": {},
   "outputs": [],
   "source": [
    "# Ans- Python threading allows you to have different parts of your program run concurrently and can simplify \n",
    "#      your design. If you've got some experience in Python and want to speed up your program using threads.\n",
    "\n",
    "#     a. activeCount():- In Python, the method threading.activeCount() from the threading module is used to count  \n",
    "#                        the currently active or running threads.\n",
    "\n",
    "#     b. currentThread():-  Returns the number of thread objects in the caller's thread control.\n",
    "\n",
    "#     c. enumerate():- Returns a list of all thread objects that are currently active.\n"
   ]
  },
  {
   "cell_type": "code",
   "execution_count": 8,
   "id": "6ae6fe6c-f95f-412a-b630-414bdaa72b2e",
   "metadata": {},
   "outputs": [],
   "source": [
    "# Q3. Explain the following functions.\n",
    "#     a. run()\n",
    "#     b. start()\n",
    "#     c. join()\n",
    "#     d. isAlive()"
   ]
  },
  {
   "cell_type": "code",
   "execution_count": 9,
   "id": "55102094-64d8-4159-b700-b021e076969a",
   "metadata": {},
   "outputs": [],
   "source": [
    "# Ans- \n",
    "#      a. run():- The . run() method executes any target function belonging to a given thread object that is now \n",
    "#                 active. It normally executes in the background after the . start() method is invoked.\n",
    "\n",
    "#      b. start():- start() method is an inbuilt method of the Thread class of the threading module, it is used \n",
    "#                   to\n",
    "#                   start a thread's activity. This method calls the run() method internally which then executes\n",
    "#                   the target method. This method must be called at most one time for one thread.\n",
    "\n",
    "#      c. join():- A thread can be joined in Python by calling the Thread. join() method. This has the effect of\n",
    "#                  blocking the current thread until the target thread that has been joined has terminated.\n",
    "\n",
    "#      d. isAlive():- The .is_alive() method returns True if the thread is still running and False , otherwise."
   ]
  },
  {
   "cell_type": "code",
   "execution_count": 10,
   "id": "81f10ec0-bf48-47b3-b6fd-e90f21c1799e",
   "metadata": {},
   "outputs": [],
   "source": [
    "# Q4. Write a python program to create two threads. Thread one must print the list of squares and thread two \n",
    "#     must print the list of cubes?"
   ]
  },
  {
   "cell_type": "code",
   "execution_count": 11,
   "id": "f1585a57-08bb-408c-8301-7cf0f36dfba2",
   "metadata": {},
   "outputs": [
    {
     "name": "stdout",
     "output_type": "stream",
     "text": [
      "Square of 0 : 0\n",
      "Square of 1 : 1\n",
      "Square of 2 : 4\n",
      "Square of 3 : 9\n",
      "Square of 4 : 16\n",
      "Square of 5 : 25\n",
      "Square of 6 : 36\n",
      "Square of 7 : 49\n",
      "Square of 8 : 64\n",
      "Square of 9 : 81\n"
     ]
    }
   ],
   "source": [
    "# Ans-\n",
    "# Thread one print the list of squares\n",
    "\n",
    "import logging\n",
    "import threading\n",
    "\n",
    "logging.basicConfig(filename=\"data1.log\", level=logging.INFO, format= \"%(asctime)s %(levelname)s %(message)s\")\n",
    "\n",
    "logging.info(\"Here define a function that finds the squares and cubes\")\n",
    "def test_thread(num,i):\n",
    "    if i ==2:\n",
    "        print(\"Square of %d : %d\"%(num, num**i))\n",
    "    else:\n",
    "        print(\"Cube of %d : %d\"%(num, num**i))\n",
    "        \n",
    "logging.info(\"This is my first thread\")\n",
    "thread_1 =[threading.Thread(target=test_thread, args=(i,2)) for i in range(10)]\n",
    "\n",
    "for t in thread_1:\n",
    "    t.start()"
   ]
  },
  {
   "cell_type": "code",
   "execution_count": 12,
   "id": "94f57385-3e1a-4212-9794-c5d58aa75a8d",
   "metadata": {},
   "outputs": [
    {
     "name": "stdout",
     "output_type": "stream",
     "text": [
      "Cube of 0 : 0\n",
      "Cube of 1 : 1\n",
      "Cube of 2 : 8\n",
      "Cube of 3 : 27\n",
      "Cube of 4 : 64\n",
      "Cube of 5 : 125\n",
      "Cube of 6 : 216\n",
      "Cube of 7 : 343\n",
      "Cube of 8 : 512\n",
      "Cube of 9 : 729\n"
     ]
    }
   ],
   "source": [
    "# Thread two print the list of squares\n",
    "\n",
    "logging.info(\"This is my second thread\")\n",
    "thread_2 = [threading.Thread(target=test_thread, args=(i,3)) for i in range(10)]\n",
    "\n",
    "for t in thread_2:\n",
    "    t.start()"
   ]
  },
  {
   "cell_type": "code",
   "execution_count": null,
   "id": "c65fc3be-eda4-482d-9c79-58c7680b4d8c",
   "metadata": {},
   "outputs": [],
   "source": [
    "# Q5. State advantages and disadvantages of multhreading."
   ]
  },
  {
   "cell_type": "code",
   "execution_count": 7,
   "id": "3f36a12f-3625-4f0f-adcb-2d1f92e1f9bc",
   "metadata": {},
   "outputs": [],
   "source": [
    "# Ans- Advantage:- \n",
    "#          1.This model provides more concurrency than the many-to-one model. It also allows another thread \n",
    "#            to run when a thread makes a blocking system call. It supports multiple threads to execute in \n",
    "#            parallel on microprocessors. Disadvantage of this model is that creating user thread requires \n",
    "#            the corresponding Kernel thread.\n",
    "#         2. Since by multithreading multiple executions are carried out in the same process environment to \n",
    "#            a large degree independent of one other Multithreading assist the applications to perform and respond \n",
    "#            better.\n",
    "#         3. The operations can be completely interrupting driven.\n",
    "#         4. The processor utilization is inferior through multithreading. Thus the power consumption is decreased\n",
    "#            to a great extend.\n",
    "#         5. Multithreading is helpful in applications that must processes very large amount of data.\n",
    "\n",
    "#      Disadvantage:-\n",
    "#         1. Disadvantage of this model is that creating user thread requires the corresponding kernel thread.\n",
    "#         2. Since the threads are sharing the similar address area and can access the resources like open files \n",
    "#            problems can take place if different threads use different data structures.\n",
    "#         3. If a parent process has multiple threads for suitable process functioning the child processes also \n",
    "#            should be multithreaded since all of them may be essential."
   ]
  },
  {
   "cell_type": "code",
   "execution_count": 8,
   "id": "10150618-cc69-4b64-810b-e916b4fca879",
   "metadata": {},
   "outputs": [],
   "source": [
    "# Q6. Explain deadlocks and race conditions."
   ]
  },
  {
   "cell_type": "code",
   "execution_count": 9,
   "id": "9ac46589-5287-471c-8463-9ecb5fa34ab5",
   "metadata": {},
   "outputs": [],
   "source": [
    "# Ans- A race condition occurs when two threads use the same variable at a given time. Deadlock exists when two \n",
    "#      threads seek one lock simultaneously. This situation will stop both threads from processing or executing \n",
    "#      the functions."
   ]
  },
  {
   "cell_type": "code",
   "execution_count": null,
   "id": "6fc3e1d0-c6d0-440a-ad5b-eecfde2067dc",
   "metadata": {},
   "outputs": [],
   "source": []
  },
  {
   "cell_type": "code",
   "execution_count": null,
   "id": "bc31a001-397e-4f3b-9965-205103cde83e",
   "metadata": {},
   "outputs": [],
   "source": []
  }
 ],
 "metadata": {
  "kernelspec": {
   "display_name": "Python 3 (ipykernel)",
   "language": "python",
   "name": "python3"
  },
  "language_info": {
   "codemirror_mode": {
    "name": "ipython",
    "version": 3
   },
   "file_extension": ".py",
   "mimetype": "text/x-python",
   "name": "python",
   "nbconvert_exporter": "python",
   "pygments_lexer": "ipython3",
   "version": "3.10.8"
  }
 },
 "nbformat": 4,
 "nbformat_minor": 5
}
